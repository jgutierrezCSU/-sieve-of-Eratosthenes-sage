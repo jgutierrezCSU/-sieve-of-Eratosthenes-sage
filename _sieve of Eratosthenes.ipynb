{
 "cells": [
  {
   "cell_type": "code",
   "execution_count": null,
   "metadata": {},
   "outputs": [],
   "source": [
    "#1\n",
    "#To get primes to compare later\n",
    "def prime_getter(n):\n",
    "    temp_p= list()\n",
    "    s= [True for i in range(n+1)]\n",
    "    for p in range(2, n+1):\n",
    "        if (s[p]):\n",
    "            temp_p.append(p)\n",
    "            for i in range(p, n+1, p):\n",
    "                s[i] = False\n",
    "    return temp_p\n",
    "\n",
    "\n",
    "primes = list() \n",
    "def SOE(start,end): \n",
    "    primes_limit = floor(sqrt(end)) # Get limit\n",
    "    \n",
    "    #manually get primes:\n",
    "    primes_to_compare=prime_getter(primes_limit)\n",
    "    \n",
    "    #print(primes_to_compare)\n",
    "    res_primes=list()\n",
    "    not_p=list()\n",
    "    for p in primes_to_compare:\n",
    "        n=start\n",
    "        temp=n%p\n",
    "       \n",
    "        if temp !=0:\n",
    "            n=(p-temp)+n\n",
    "        for i in range(n, end+1, p):\n",
    "            not_p.append(i)\n",
    "         \n",
    "    for n in range(start,end):\n",
    "        if n not in not_p:\n",
    "            res_primes.append(n)\n",
    "    \n",
    "    print(res_primes)\n",
    "    print('Length:',len(res_primes))\n",
    "\n",
    "\n",
    "start=10^14\n",
    "end= (10^14)+(10^6)\n",
    "\n",
    "SOE(start,end)"
   ]
  }
 ],
 "metadata": {
  "kernelspec": {
   "display_name": "SageMath 9.0",
   "language": "sage",
   "name": "sagemath"
  },
  "language_info": {
   "codemirror_mode": {
    "name": "ipython",
    "version": 3
   },
   "file_extension": ".py",
   "mimetype": "text/x-python",
   "name": "python",
   "nbconvert_exporter": "python",
   "pygments_lexer": "ipython3",
   "version": "3.7.3"
  }
 },
 "nbformat": 4,
 "nbformat_minor": 2
}
